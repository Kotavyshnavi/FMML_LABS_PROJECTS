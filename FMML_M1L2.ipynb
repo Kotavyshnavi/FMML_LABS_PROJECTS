{
  "cells": [
    {
      "cell_type": "markdown",
      "metadata": {
        "id": "view-in-github",
        "colab_type": "text"
      },
      "source": [
        "<a href=\"https://colab.research.google.com/github/Kotavyshnavi/FMML_LABS_PROJECTS/blob/main/FMML_M1L2.ipynb\" target=\"_parent\"><img src=\"https://colab.research.google.com/assets/colab-badge.svg\" alt=\"Open In Colab\"/></a>"
      ]
    },
    {
      "cell_type": "markdown",
      "metadata": {
        "id": "3Eu9VZbF01eq"
      },
      "source": [
        "# Machine Learning terms and metrics\n",
        "\n",
        "FMML Module 1, Lab 2\n",
        "\n",
        "In this lab, we will show a part of the ML pipeline by using the California Housing dataset. There are 20640 samples, each with 8 attributes like income of the block, age of the houses per district etc. The task is to predict the cost of the houses per district. We will use the scikit-learn library to load the data and perform some basic data preprocessing and model training. We will also show how to evaluate the model using some common metrics, split the data into training and testing sets, and use cross-validation to get a better estimate of the model's performance."
      ]
    },
    {
      "cell_type": "code",
      "execution_count": 16,
      "metadata": {
        "id": "8qBvyEem0vLi"
      },
      "outputs": [],
      "source": [
        "import numpy as np\n",
        "from sklearn import datasets\n",
        "import matplotlib.pyplot as plt\n",
        "\n",
        "rng = np.random.default_rng(seed=42)"
      ]
    },
    {
      "cell_type": "code",
      "execution_count": 17,
      "metadata": {
        "colab": {
          "base_uri": "https://localhost:8080/"
        },
        "id": "8LpqjN991GGJ",
        "outputId": "bb95cb06-b755-42ff-96a4-02fb60d81a62"
      },
      "outputs": [
        {
          "output_type": "stream",
          "name": "stdout",
          "text": [
            ".. _california_housing_dataset:\n",
            "\n",
            "California Housing dataset\n",
            "--------------------------\n",
            "\n",
            "**Data Set Characteristics:**\n",
            "\n",
            ":Number of Instances: 20640\n",
            "\n",
            ":Number of Attributes: 8 numeric, predictive attributes and the target\n",
            "\n",
            ":Attribute Information:\n",
            "    - MedInc        median income in block group\n",
            "    - HouseAge      median house age in block group\n",
            "    - AveRooms      average number of rooms per household\n",
            "    - AveBedrms     average number of bedrooms per household\n",
            "    - Population    block group population\n",
            "    - AveOccup      average number of household members\n",
            "    - Latitude      block group latitude\n",
            "    - Longitude     block group longitude\n",
            "\n",
            ":Missing Attribute Values: None\n",
            "\n",
            "This dataset was obtained from the StatLib repository.\n",
            "https://www.dcc.fc.up.pt/~ltorgo/Regression/cal_housing.html\n",
            "\n",
            "The target variable is the median house value for California districts,\n",
            "expressed in hundreds of thousands of dollars ($100,000).\n",
            "\n",
            "This dataset was derived from the 1990 U.S. census, using one row per census\n",
            "block group. A block group is the smallest geographical unit for which the U.S.\n",
            "Census Bureau publishes sample data (a block group typically has a population\n",
            "of 600 to 3,000 people).\n",
            "\n",
            "A household is a group of people residing within a home. Since the average\n",
            "number of rooms and bedrooms in this dataset are provided per household, these\n",
            "columns may take surprisingly large values for block groups with few households\n",
            "and many empty houses, such as vacation resorts.\n",
            "\n",
            "It can be downloaded/loaded using the\n",
            ":func:`sklearn.datasets.fetch_california_housing` function.\n",
            "\n",
            ".. rubric:: References\n",
            "\n",
            "- Pace, R. Kelley and Ronald Barry, Sparse Spatial Autoregressions,\n",
            "  Statistics and Probability Letters, 33 (1997) 291-297\n",
            "\n"
          ]
        }
      ],
      "source": [
        "dataset = datasets.fetch_california_housing()\n",
        "# Dataset description\n",
        "print(dataset.DESCR)"
      ]
    },
    {
      "cell_type": "markdown",
      "metadata": {
        "id": "PCe1VNftevgE"
      },
      "source": [
        "Given below are the list of target values. These correspond to the house value derived considering all the 8 input features and are continuous values. We should use regression models to predict these values but we will start with a simple classification model for the sake of simplicity. We need to just round off the values to the nearest integer and use a classification model to predict the house value."
      ]
    },
    {
      "cell_type": "code",
      "execution_count": 18,
      "metadata": {
        "colab": {
          "base_uri": "https://localhost:8080/"
        },
        "id": "F8K0ggBOevgE",
        "outputId": "5216f990-a910-4171-9a25-c501fabab945"
      },
      "outputs": [
        {
          "output_type": "stream",
          "name": "stdout",
          "text": [
            "Orignal target values: [4.526 3.585 3.521 ... 0.923 0.847 0.894]\n",
            "Target values after conversion: [4 3 3 ... 0 0 0]\n",
            "Input variables shape: (20640, 8)\n",
            "Output variables shape: (20640,)\n"
          ]
        }
      ],
      "source": [
        "print(\"Orignal target values:\", dataset.target)\n",
        "\n",
        "dataset.target = dataset.target.astype(int)\n",
        "\n",
        "print(\"Target values after conversion:\", dataset.target)\n",
        "print(\"Input variables shape:\", dataset.data.shape)\n",
        "print(\"Output variables shape:\", dataset.target.shape)"
      ]
    },
    {
      "cell_type": "markdown",
      "metadata": {
        "id": "iNx4174W5xRg"
      },
      "source": [
        "The simplest model to use for classification is the K-Nearest Neighbors model. We will use this model to predict the house value with a K value of 1. We will also use the accuracy metric to evaluate the model."
      ]
    },
    {
      "cell_type": "code",
      "execution_count": 19,
      "metadata": {
        "id": "07zpydQj1hIQ"
      },
      "outputs": [],
      "source": [
        "def NN1(traindata, trainlabel, query):\n",
        "    \"\"\"\n",
        "    This function takes in the training data, training labels and a query point\n",
        "    and returns the predicted label for the query point using the nearest neighbour algorithm\n",
        "\n",
        "    traindata: numpy array of shape (n,d) where n is the number of samples and d is the number of features\n",
        "    trainlabel: numpy array of shape (n,) where n is the number of samples\n",
        "    query: numpy array of shape (d,) where d is the number of features\n",
        "\n",
        "    returns: the predicted label for the query point which is the label of the training data which is closest to the query point\n",
        "    \"\"\"\n",
        "    diff = (\n",
        "        traindata - query\n",
        "    )  # find the difference between features. Numpy automatically takes care of the size here\n",
        "    sq = diff * diff  # square the differences\n",
        "    dist = sq.sum(1)  # add up the squares\n",
        "    label = trainlabel[np.argmin(dist)]\n",
        "    return label\n",
        "\n",
        "\n",
        "def NN(traindata, trainlabel, testdata):\n",
        "    \"\"\"\n",
        "    This function takes in the training data, training labels and test data\n",
        "    and returns the predicted labels for the test data using the nearest neighbour algorithm\n",
        "\n",
        "    traindata: numpy array of shape (n,d) where n is the number of samples and d is the number of features\n",
        "    trainlabel: numpy array of shape (n,) where n is the number of samples\n",
        "    testdata: numpy array of shape (m,d) where m is the number of test samples and d is the number of features\n",
        "\n",
        "    returns: the predicted labels for the test data which is the label of the training data which is closest to each test point\n",
        "    \"\"\"\n",
        "    predlabel = np.array([NN1(traindata, trainlabel, i) for i in testdata])\n",
        "    return predlabel"
      ]
    },
    {
      "cell_type": "markdown",
      "metadata": {
        "id": "03JktkfIGaje"
      },
      "source": [
        "We will also define a 'random classifier', which randomly allots labels to each sample"
      ]
    },
    {
      "cell_type": "code",
      "execution_count": 20,
      "metadata": {
        "id": "fogWAtjyGhAH"
      },
      "outputs": [],
      "source": [
        "def RandomClassifier(traindata, trainlabel, testdata):\n",
        "    \"\"\"\n",
        "    This function takes in the training data, training labels and test data\n",
        "    and returns the predicted labels for the test data using the random classifier algorithm\n",
        "\n",
        "    In reality, we don't need these arguments but we are passing them to keep the function signature consistent with other classifiers\n",
        "\n",
        "    traindata: numpy array of shape (n,d) where n is the number of samples and d is the number of features\n",
        "    trainlabel: numpy array of shape (n,) where n is the number of samples\n",
        "    testdata: numpy array of shape (m,d) where m is the number of test samples and d is the number of features\n",
        "\n",
        "    returns: the predicted labels for the test data which is a random label from the training data\n",
        "    \"\"\"\n",
        "\n",
        "    classes = np.unique(trainlabel)\n",
        "    rints = rng.integers(low=0, high=len(classes), size=len(testdata))\n",
        "    predlabel = classes[rints]\n",
        "    return predlabel"
      ]
    },
    {
      "cell_type": "markdown",
      "metadata": {
        "id": "1Hjf1KHs7fU5"
      },
      "source": [
        "We need a metric to evaluate the performance of the model. Let us define a metric 'Accuracy' to see how good our learning algorithm is. Accuracy is the ratio of the number of correctly classified samples to the total number of samples. The higher the accuracy, the better the algorithm. We will use the accuracy metric to evaluate and compate the performance of the K-Nearest Neighbors model and the random classifier."
      ]
    },
    {
      "cell_type": "code",
      "execution_count": 21,
      "metadata": {
        "id": "ouuCqWU07bz-"
      },
      "outputs": [],
      "source": [
        "def Accuracy(gtlabel, predlabel):\n",
        "    \"\"\"\n",
        "    This function takes in the ground-truth labels and predicted labels\n",
        "    and returns the accuracy of the classifier\n",
        "\n",
        "    gtlabel: numpy array of shape (n,) where n is the number of samples\n",
        "    predlabel: numpy array of shape (n,) where n is the number of samples\n",
        "\n",
        "    returns: the accuracy of the classifier which is the number of correct predictions divided by the total number of predictions\n",
        "    \"\"\"\n",
        "    assert len(gtlabel) == len(\n",
        "        predlabel\n",
        "    ), \"Length of the ground-truth labels and predicted labels should be the same\"\n",
        "    correct = (\n",
        "        gtlabel == predlabel\n",
        "    ).sum()  # count the number of times the groundtruth label is equal to the predicted label.\n",
        "    return correct / len(gtlabel)"
      ]
    },
    {
      "cell_type": "markdown",
      "metadata": {
        "id": "4vJFwBFa9Klw"
      },
      "source": [
        "Let us make a function to split the dataset with the desired probability. We will use this function to split the dataset into training and testing sets. We will use the training set to train the model and the testing set to evaluate the model."
      ]
    },
    {
      "cell_type": "code",
      "execution_count": 22,
      "metadata": {
        "id": "Ko0VzpSM2Tdi"
      },
      "outputs": [],
      "source": [
        "def split(data, label, percent):\n",
        "    # generate a random number for each sample\n",
        "    rnd = rng.random(len(label))\n",
        "    split1 = rnd < percent\n",
        "    split2 = rnd >= percent\n",
        "\n",
        "    split1data = data[split1, :]\n",
        "    split1label = label[split1]\n",
        "    split2data = data[split2, :]\n",
        "    split2label = label[split2]\n",
        "    return split1data, split1label, split2data, split2label"
      ]
    },
    {
      "cell_type": "markdown",
      "metadata": {
        "id": "AcK3LEAJ_LGC"
      },
      "source": [
        "We will reserve 20% of our dataset as the test set. We will not change this portion throughout our experiments"
      ]
    },
    {
      "cell_type": "code",
      "execution_count": 23,
      "metadata": {
        "colab": {
          "base_uri": "https://localhost:8080/"
        },
        "id": "bBZkHBLJ1iU-",
        "outputId": "107a57d1-f4dd-477c-ab71-f8b6cdac41c7"
      },
      "outputs": [
        {
          "output_type": "stream",
          "name": "stdout",
          "text": [
            "Number of test samples: 4144\n",
            "Number of train samples: 16496\n",
            "Percent of test data: 20.07751937984496 %\n"
          ]
        }
      ],
      "source": [
        "testdata, testlabel, alltraindata, alltrainlabel = split(\n",
        "    dataset.data, dataset.target, 20 / 100\n",
        ")\n",
        "print(\"Number of test samples:\", len(testlabel))\n",
        "print(\"Number of train samples:\", len(alltrainlabel))\n",
        "print(\"Percent of test data:\", len(testlabel) * 100 / len(dataset.target), \"%\")"
      ]
    },
    {
      "cell_type": "markdown",
      "metadata": {
        "id": "a6Ss0Z6IAGNV"
      },
      "source": [
        "## Experiments with splits\n",
        "\n",
        "Let us reserve some of our train data as a validation set"
      ]
    },
    {
      "cell_type": "code",
      "execution_count": 24,
      "metadata": {
        "id": "WFew2iry_7W7"
      },
      "outputs": [],
      "source": [
        "traindata, trainlabel, valdata, vallabel = split(\n",
        "    alltraindata, alltrainlabel, 75 / 100)"
      ]
    },
    {
      "cell_type": "markdown",
      "metadata": {
        "id": "60hiu4clFN1i"
      },
      "source": [
        "What is the accuracy of our classifiers on the train dataset?"
      ]
    },
    {
      "cell_type": "code",
      "execution_count": 25,
      "metadata": {
        "colab": {
          "base_uri": "https://localhost:8080/"
        },
        "id": "DBlZDTHUFTZx",
        "outputId": "83da0a04-6d5f-4d9e-9183-88cde0bf4d61"
      },
      "outputs": [
        {
          "output_type": "stream",
          "name": "stdout",
          "text": [
            "Training accuracy using nearest neighbour algorithm: 100.0 %\n",
            "Training accuracy using random classifier:  16.4375808538163 %\n"
          ]
        }
      ],
      "source": [
        "trainpred = NN(traindata, trainlabel, traindata)\n",
        "trainAccuracy = Accuracy(trainlabel, trainpred)\n",
        "print(\"Training accuracy using nearest neighbour algorithm:\", trainAccuracy*100, \"%\")\n",
        "\n",
        "trainpred = RandomClassifier(traindata, trainlabel, traindata)\n",
        "trainAccuracy = Accuracy(trainlabel, trainpred)\n",
        "print(\"Training accuracy using random classifier: \", trainAccuracy*100, \"%\")"
      ]
    },
    {
      "cell_type": "markdown",
      "metadata": {
        "id": "7h08-9gJDtSy"
      },
      "source": [
        "For nearest neighbour, the train accuracy is always 1. The accuracy of the random classifier is close to 1/(number of classes) which is 0.1666 in our case. This is because the random classifier randomly assigns a label to each sample and the probability of assigning the correct label is 1/(number of classes). Let us predict the labels for our validation set and get the accuracy. This accuracy is a good estimate of the accuracy of our model on unseen data."
      ]
    },
    {
      "cell_type": "code",
      "execution_count": 26,
      "metadata": {
        "colab": {
          "base_uri": "https://localhost:8080/"
        },
        "id": "4h7bXoW_2H3v",
        "outputId": "e5ada923-0152-4829-b873-a0f45409f7ee"
      },
      "outputs": [
        {
          "output_type": "stream",
          "name": "stdout",
          "text": [
            "Validation accuracy using nearest neighbour algorithm: 34.10852713178294 %\n",
            "Validation accuracy using random classifier: 16.884689922480618 %\n"
          ]
        }
      ],
      "source": [
        "valpred = NN(traindata, trainlabel, valdata)\n",
        "valAccuracy = Accuracy(vallabel, valpred)\n",
        "print(\"Validation accuracy using nearest neighbour algorithm:\", valAccuracy*100, \"%\")\n",
        "\n",
        "\n",
        "valpred = RandomClassifier(traindata, trainlabel, valdata)\n",
        "valAccuracy = Accuracy(vallabel, valpred)\n",
        "print(\"Validation accuracy using random classifier:\", valAccuracy*100, \"%\")"
      ]
    },
    {
      "cell_type": "markdown",
      "metadata": {
        "id": "py9bLguFEjfg"
      },
      "source": [
        "Validation accuracy of nearest neighbour is considerably less than its train accuracy while the validation accuracy of random classifier is the same. However, the validation accuracy of nearest neighbour is twice that of the random classifier. Now let us try another random split and check the validation accuracy. We will see that the validation accuracy changes with the split. This is because the validation set is small and the accuracy is highly dependent on the samples in the validation set. We can get a better estimate of the accuracy by using cross-validation."
      ]
    },
    {
      "cell_type": "code",
      "execution_count": 27,
      "metadata": {
        "colab": {
          "base_uri": "https://localhost:8080/"
        },
        "id": "ujm3cyYzEntE",
        "outputId": "ce8997a2-b605-4dfd-fdbf-52fc163fd621"
      },
      "outputs": [
        {
          "output_type": "stream",
          "name": "stdout",
          "text": [
            "Validation accuracy using nearest neighbour algorithm: 34.048257372654156 %\n"
          ]
        }
      ],
      "source": [
        "traindata, trainlabel, valdata, vallabel = split(\n",
        "    alltraindata, alltrainlabel, 75 / 100)\n",
        "valpred = NN(traindata, trainlabel, valdata)\n",
        "valAccuracy = Accuracy(vallabel, valpred)\n",
        "print(\"Validation accuracy using nearest neighbour algorithm:\", valAccuracy*100, \"%\")"
      ]
    },
    {
      "cell_type": "markdown",
      "metadata": {
        "id": "oSOx7U83EKie"
      },
      "source": [
        "You can run the above cell multiple times to try with different random splits.\n",
        "We notice that the accuracy is different for each run, but close together.\n",
        "\n",
        "Now let us compare it with the accuracy we get on the test dataset."
      ]
    },
    {
      "cell_type": "code",
      "execution_count": 28,
      "metadata": {
        "colab": {
          "base_uri": "https://localhost:8080/"
        },
        "id": "PNEZ5ToYBEDW",
        "outputId": "6192750f-104f-4f1a-992a-8c4e48ac050c"
      },
      "outputs": [
        {
          "output_type": "stream",
          "name": "stdout",
          "text": [
            "Test accuracy: 34.91795366795367 %\n"
          ]
        }
      ],
      "source": [
        "testpred = NN(alltraindata, alltrainlabel, testdata)\n",
        "testAccuracy = Accuracy(testlabel, testpred)\n",
        "\n",
        "print(\"Test accuracy:\", testAccuracy*100, \"%\")"
      ]
    },
    {
      "cell_type": "markdown",
      "metadata": {
        "id": "w3dGD531K3gH"
      },
      "source": [
        "### Try it out for yourself and answer:\n",
        "1. How is the accuracy of the validation set affected if we increase the percentage of validation set? What happens when we reduce it?\n",
        "2. How does the size of the train and validation set affect how well we can predict the accuracy on the test set using the validation set?\n",
        "3. What do you think is a good percentage to reserve for the validation set so that thest two factors are balanced?\n",
        "\n",
        "Answer for both nearest neighbour and random classifier. You can note down the values for your experiments and plot a graph using  <a href=https://matplotlib.org/stable/gallery/lines_bars_and_markers/step_demo.html#sphx-glr-gallery-lines-bars-and-markers-step-demo-py>plt.plot<href>. Check also for extreme values for splits, like 99.9% or 0.1%"
      ]
    },
    {
      "cell_type": "markdown",
      "metadata": {
        "id": "M9zvdYY6evgI"
      },
      "source": [
        "> Exercise: Try to implement a 3 nearest neighbour classifier and compare the accuracy of the 1 nearest neighbour classifier and the 3 nearest neighbour classifier on the test dataset. You can use the KNeighborsClassifier class from the scikit-learn library to implement the K-Nearest Neighbors model. You can set the number of neighbors using the n_neighbors parameter. You can also use the accuracy_score function from the scikit-learn library to calculate the accuracy of the model."
      ]
    },
    {
      "cell_type": "markdown",
      "metadata": {
        "id": "PnYvkAZLQY7h"
      },
      "source": [
        "## Multiple Splits\n",
        "\n",
        "One way to get more accurate estimates for the test accuracy is by using <b>cross-validation</b>. Here, we will try a simple version, where we do multiple train/val splits and take the average of validation accuracies as the test accuracy estimation. Here is a function for doing this. Note that this function will take a long time to execute. You can reduce the number of splits to make it faster."
      ]
    },
    {
      "cell_type": "code",
      "execution_count": 29,
      "metadata": {
        "id": "E4nGCUQXBTzo"
      },
      "outputs": [],
      "source": [
        "def AverageAccuracy(alldata, alllabel, splitpercent, iterations, classifier=NN):\n",
        "    \"\"\"\n",
        "    This function takes in the data, labels, split percentage, number of iterations and classifier function\n",
        "    and returns the average accuracy of the classifier\n",
        "\n",
        "    alldata: numpy array of shape (n,d) where n is the number of samples and d is the number of features\n",
        "    alllabel: numpy array of shape (n,) where n is the number of samples\n",
        "    splitpercent: float which is the percentage of data to be used for training\n",
        "    iterations: int which is the number of iterations to run the classifier\n",
        "    classifier: function which is the classifier function to be used\n",
        "\n",
        "    returns: the average accuracy of the classifier\n",
        "    \"\"\"\n",
        "    accuracy = 0\n",
        "    for ii in range(iterations):\n",
        "        traindata, trainlabel, valdata, vallabel = split(\n",
        "            alldata, alllabel, splitpercent\n",
        "        )\n",
        "        valpred = classifier(traindata, trainlabel, valdata)\n",
        "        accuracy += Accuracy(vallabel, valpred)\n",
        "    return accuracy / iterations  # average of all accuracies"
      ]
    },
    {
      "cell_type": "code",
      "execution_count": 30,
      "metadata": {
        "colab": {
          "base_uri": "https://localhost:8080/"
        },
        "id": "H3qtNar7Bbik",
        "outputId": "f8989b05-5c93-416c-dfac-56c233786367"
      },
      "outputs": [
        {
          "output_type": "stream",
          "name": "stdout",
          "text": [
            "Average validation accuracy: 33.58463539517022 %\n",
            "Test accuracy: 34.91795366795367 %\n"
          ]
        }
      ],
      "source": [
        "avg_acc = AverageAccuracy(alltraindata, alltrainlabel, 75 / 100, 10, classifier=NN)\n",
        "print(\"Average validation accuracy:\", avg_acc*100, \"%\")\n",
        "testpred = NN(alltraindata, alltrainlabel, testdata)\n",
        "\n",
        "print(\"Test accuracy:\", Accuracy(testlabel, testpred)*100, \"%\")"
      ]
    },
    {
      "cell_type": "markdown",
      "metadata": {
        "id": "33GIn4x5VH-d"
      },
      "source": [
        "This is a very simple way of doing cross-validation. There are many well-known algorithms for cross-validation, like k-fold cross-validation, leave-one-out etc. This will be covered in detail in a later module. For more information about cross-validation, check <a href=https://en.wikipedia.org/wiki/Cross-validation_(statistics)>Cross-validatioin (Wikipedia)</a>\n",
        "\n",
        "### Questions\n",
        "1. Does averaging the validation accuracy across multiple splits give more consistent results?\n",
        "2. Does it give more accurate estimate of test accuracy?\n",
        "3. What is the effect of the number of iterations on the estimate? Do we get a better estimate with higher iterations?\n",
        "4. Consider the results you got for the previous questions. Can we deal with a very small train dataset or validation dataset by increasing the iterations?\n"
      ]
    },
    {
      "cell_type": "markdown",
      "metadata": {
        "id": "z-SBxy1qevgJ"
      },
      "source": [
        "> Exercise: How does the accuracy of the 3 nearest neighbour classifier change with the number of splits? How is it affected by the split size? Compare the results with the 1 nearest neighbour classifier."
      ]
    },
    {
      "cell_type": "markdown",
      "source": [
        "Yes, averaging validation accuracy across multiple splits can provide more consistent results.\n",
        "\n",
        "\n",
        "_Why averaging helps:_\n",
        "\n",
        "1. Reduces variability: Averages out fluctuations in validation accuracy due to random splitting.\n",
        "2. Increases reliability: Provides a more robust estimate of model performance.\n",
        "3. Mitigates overfitting: Helps identify models that perform well across multiple splits.\n",
        "\n",
        "\n",
        "_Methods for averaging:_\n",
        "\n",
        "1. K-Fold Cross-Validation (CV): Divide data into k folds, train on k-1 folds, evaluate on remaining fold.\n",
        "2. Stratified K-Fold CV: Maintains class balance in each fold.\n",
        "3. Repeated K-Fold CV: Repeats k-fold CV multiple times with different random splits.\n",
        "\n",
        "\n",
        "_Benefits:_\n",
        "\n",
        "1. Improved estimation of model performance\n",
        "2. Better comparison of models\n",
        "3. Increased confidence in results\n",
        "4. Reduced risk of overestimation or underestimation\n",
        "\n",
        "\n",
        "_Considerations:_\n",
        "\n",
        "1. Computational cost: Increases with number of splits and repeats.\n",
        "2. Choice of k: Balances bias-variance tradeoff (e.g., k=5 or k=10).\n",
        "3. Random seed: Ensures reproducibility.\n",
        "\n",
        "\n",
        "_Best practices:_\n",
        "\n",
        "1. Use Stratified K-Fold CV for imbalanced datasets.\n",
        "2. Choose suitable k and repeat values.\n",
        "3. Monitor standard deviation or variance of validation accuracy.\n",
        "4. Visualize results with error bars or box plots.\n",
        "\n",
        "\n",
        "_Python libraries:_\n",
        "\n",
        "1. Scikit-learn (sklearn.model_selection.KFold, sklearn.model_selection.StratifiedKFold)\n",
        "2. TensorFlow (tf.keras.utils.KFold)\n",
        "3. PyTorch (torch.utils.data.DataLoader with batch_sampler)\n",
        "\n",
        "\n",
        "By averaging validation accuracy across multiple splits, you can increase the reliability and robustness of your model evaluation.\n",
        "\n",
        "\n",
        "Do you have any specific questions about implementing k-fold cross-validation?"
      ],
      "metadata": {
        "id": "dky6XupwM2Yt"
      }
    },
    {
      "cell_type": "markdown",
      "source": [
        "Averaging validation accuracy across multiple splits can provide a more accurate estimate of test accuracy, but it's not a guarantee.\n",
        "\n",
        "\n",
        "_Why averaging improves estimation:_\n",
        "\n",
        "1. Reduces variability: Averages out fluctuations in validation accuracy due to random splitting.\n",
        "2. Increases reliability: Provides a more robust estimate of model performance.\n",
        "3. Better represents population: Averages over multiple splits can better approximate the true population performance.\n",
        "\n",
        "\n",
        "_Conditions for improved estimation:_\n",
        "\n",
        "1. Large enough sample size\n",
        "2. Representative validation sets\n",
        "3. Sufficient number of splits (k)\n",
        "4. Independent and identically distributed (i.i.d.) data\n",
        "\n",
        "\n",
        "_Limitations:_\n",
        "\n",
        "1. Biased validation sets: If validation sets are not representative, averaging won't improve estimation.\n",
        "2. Overfitting to validation sets: Models may still overfit to validation sets, especially with small datasets.\n",
        "3. Different validation and test distributions: Averaging validation accuracy may not reflect test accuracy if distributions differ.\n",
        "\n",
        "\n",
        "_When averaging is most effective:_\n",
        "\n",
        "1. Large datasets with minimal overfitting\n",
        "2. Simple models with minimal capacity for overfitting\n",
        "3. Well-regularized models\n",
        "\n",
        "\n",
        "_Best practices:_\n",
        "\n",
        "1. Use stratified sampling to maintain class balance.\n",
        "2. Ensure validation sets are representative.\n",
        "3. Monitor test accuracy for final evaluation.\n",
        "4. Consider using techniques like bootstrapping or Monte Carlo cross-validation.\n",
        "\n",
        "\n",
        "_Remember:_\n",
        "\n",
        "1. Validation accuracy is an estimate of test accuracy.\n",
        "2. Averaging validation accuracy improves estimation, but not always.\n",
        "3. Test accuracy remains the gold standard for evaluation.\n",
        "\n",
        "\n",
        "To further improve estimation:\n",
        "\n",
        "\n",
        "1. Use techniques like cross-validation with test sets.\n",
        "2. Employ Bayesian methods for uncertainty estimation.\n",
        "3. Consider using probabilistic models.\n",
        "\n",
        "\n",
        "Do you have any questions about implementing cross-validation or estimating test accuracy?"
      ],
      "metadata": {
        "id": "yCuOqWDuM8yu"
      }
    },
    {
      "cell_type": "markdown",
      "source": [
        "The number of iterations (or repeats) in cross-validation significantly impacts the estimate's quality.\n",
        "\n",
        "\n",
        "_Effects of increasing iterations:_\n",
        "\n",
        "*Positive effects:*\n",
        "\n",
        "1. Reduced variability: More iterations decrease the standard error of the estimate.\n",
        "2. Improved precision: Estimates become more precise and reliable.\n",
        "3. Better representation: More iterations capture the data's underlying patterns.\n",
        "\n",
        "\n",
        "*Negative effects:*\n",
        "\n",
        "1. Computational cost: Increased iterations raise computational time and resources.\n",
        "2. Overfitting risk: Excessive iterations may lead to overfitting, especially with complex models.\n",
        "\n",
        "\n",
        "*Optimal number of iterations:*\n",
        "\n",
        "1. Depends on dataset size, complexity, and model.\n",
        "2. Typically, 5-10 iterations (k-folds) are sufficient.\n",
        "3. More iterations (e.g., 20-50) may be needed for small datasets or noisy data.\n",
        "\n",
        "\n",
        "*Convergence:*\n",
        "\n",
        "1. Estimate convergence: Monitor the estimate's stability across iterations.\n",
        "2. Stop when convergence is reached: No significant improvement with additional iterations.\n",
        "\n",
        "\n",
        "*Guidelines:*\n",
        "\n",
        "1. Start with 5-10 iterations and assess convergence.\n",
        "2. Increase iterations if estimate variability is high.\n",
        "3. Balance computational cost and precision.\n",
        "\n",
        "\n",
        "*Theoretical background:*\n",
        "\n",
        "1. Law of Large Numbers (LLN): Averages converge to expected values with increasing iterations.\n",
        "2. Central Limit Theorem (CLT): Estimates approach normal distribution with increasing iterations.\n",
        "\n",
        "\n",
        "*Python libraries:*\n",
        "\n",
        "1. Scikit-learn: `KFold`, `StratifiedKFold` with `n_splits` parameter.\n",
        "2. TensorFlow: `tf.keras.utils.KFold` with `n_splits` parameter.\n",
        "\n",
        "\n",
        "*Example code:*\n",
        "```\n",
        "from sklearn.model_selection import KFold\n",
        "\n",
        "# Define dataset and model\n",
        "X, y = ...\n",
        "\n",
        "# Create KFold object with 10 iterations\n",
        "kf = KFold(n_splits=10, shuffle=True, random_state=42)\n",
        "\n",
        "# Perform cross-validation\n",
        "scores = []\n",
        "for train_index, val_index in kf.split(X):\n",
        "    X_train, X_val = X[train_index], X[val_index]\n",
        "    y_train, y_val = y[train_index], y[val_index]\n",
        "    # Train model and evaluate on validation set\n",
        "    model.fit(X_train, y_train)\n",
        "    scores.append(model.score(X_val, y_val))\n",
        "\n",
        "# Calculate average score\n",
        "avg_score = np.mean(scores)\n",
        "```\n",
        "By carefully selecting the number of iterations, you can achieve a better estimate of your model's performance.\n",
        "\n",
        "\n",
        "Do you have any questions about implementing cross-validation or estimating model performance?"
      ],
      "metadata": {
        "id": "es6N8RKCNA_b"
      }
    },
    {
      "cell_type": "markdown",
      "source": [
        "Increasing iterations can help alleviate issues with small train or validation datasets, but there are limitations.\n",
        "\n",
        "\n",
        "*Benefits of increasing iterations for small datasets:*\n",
        "\n",
        "1. Reduced variability: More iterations decrease the standard error of the estimate.\n",
        "2. Improved precision: Estimates become more precise and reliable.\n",
        "3. Better representation: More iterations capture the data's underlying patterns.\n",
        "\n",
        "\n",
        "*Limitations:*\n",
        "\n",
        "1. Overfitting risk: Excessive iterations may lead to overfitting, especially with complex models.\n",
        "2. Computational cost: Increased iterations raise computational time and resources.\n",
        "3. Data exhaustion: Repeatedly sampling from a small dataset may lead to similar training and validation sets.\n",
        "\n",
        "\n",
        "*Alternatives to increasing iterations:*\n",
        "\n",
        "1. Data augmentation: Artificially increase dataset size through transformations.\n",
        "2. Transfer learning: Leverage pre-trained models and fine-tune on small dataset.\n",
        "3. Regularization techniques: Prevent overfitting with methods like dropout, L1/L2 regularization.\n",
        "4. Bayesian methods: Incorporate prior knowledge and uncertainty estimation.\n",
        "5. Ensemble methods: Combine multiple models to improve performance.\n",
        "\n",
        "\n",
        "*Minimum dataset size requirements:*\n",
        "\n",
        "1. Simple models (e.g., linear regression): 10-50 samples\n",
        "2. Moderate models (e.g., decision trees): 50-200 samples\n",
        "3. Complex models (e.g., neural networks): 200-1000 samples\n",
        "\n",
        "\n",
        "*Guidelines for small datasets:*\n",
        "\n",
        "1. Start with simple models and incremental complexity.\n",
        "2. Use regularization techniques and early stopping.\n",
        "3. Employ data augmentation and transfer learning.\n",
        "4. Monitor performance on validation set.\n",
        "\n",
        "\n",
        "*Python libraries for small dataset handling:*\n",
        "\n",
        "1. Scikit-learn: `KFold`, `StratifiedKFold` with `n_splits` parameter\n",
        "2. TensorFlow: `tf.keras.utils.KFold` with `n_splits` parameter\n",
        "3. PyTorch: `torch.utils.data.DataLoader` with `batch_sampler`\n",
        "\n",
        "\n",
        "*Example code for data augmentation:*\n",
        "```\n",
        "import numpy as np\n",
        "from tensorflow.keras.preprocessing.image import ImageDataGenerator\n",
        "\n",
        "# Define dataset\n",
        "X, y = ...\n",
        "\n",
        "# Create data generator with augmentation\n",
        "datagen = ImageDataGenerator(\n",
        "    rotation_range=30,\n",
        "    width_shift_range=0.2,\n",
        "    height_shift_range=0.2,\n",
        "    shear_range=30,\n",
        "    zoom_range=[0.8, 1.2]\n",
        ")\n",
        "\n",
        "# Train model with augmented data\n",
        "model.fit(datagen.flow(X, y, batch_size=32),\n",
        "          validation_data=(X_val, y_val),\n",
        "          epochs=10)\n",
        "```\n",
        "By understanding the limitations and alternatives, you can effectively handle small train or validation datasets.\n",
        "\n",
        "\n",
        "Do you have any questions about implementing data augmentation or regularization techniques?"
      ],
      "metadata": {
        "id": "0E7Mmna5NE4i"
      }
    }
  ],
  "metadata": {
    "colab": {
      "provenance": [],
      "include_colab_link": true
    },
    "kernelspec": {
      "display_name": "Python 3",
      "name": "python3"
    },
    "language_info": {
      "codemirror_mode": {
        "name": "ipython",
        "version": 3
      },
      "file_extension": ".py",
      "mimetype": "text/x-python",
      "name": "python",
      "nbconvert_exporter": "python",
      "pygments_lexer": "ipython3",
      "version": "3.10.10"
    }
  },
  "nbformat": 4,
  "nbformat_minor": 0
}